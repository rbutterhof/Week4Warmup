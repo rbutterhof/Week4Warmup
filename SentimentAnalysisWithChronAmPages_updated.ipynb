{
  "nbformat": 4,
  "nbformat_minor": 0,
  "metadata": {
    "colab": {
      "provenance": [],
      "include_colab_link": true
    },
    "kernelspec": {
      "name": "python3",
      "display_name": "Python 3"
    },
    "language_info": {
      "name": "python"
    }
  },
  "cells": [
    {
      "cell_type": "markdown",
      "metadata": {
        "id": "view-in-github",
        "colab_type": "text"
      },
      "source": [
        "<a href=\"https://colab.research.google.com/github/rbutterhof/Week4Warmup/blob/main/SentimentAnalysisWithChronAmPages_updated.ipynb\" target=\"_parent\"><img src=\"https://colab.research.google.com/assets/colab-badge.svg\" alt=\"Open In Colab\"/></a>"
      ]
    },
    {
      "cell_type": "markdown",
      "source": [
        "# Sentiment Analysis on Chronicling America Pages\n",
        "\n",
        "We are going to apply some text analysis stuff to a collection of PDF files from Chronicling America.  You will need to make a folder on Google Drive called \"LibraryJuicePython\" first."
      ],
      "metadata": {
        "id": "Q0Zo96Ce9als"
      }
    },
    {
      "cell_type": "code",
      "execution_count": null,
      "metadata": {
        "id": "plqKSsgM9Ycb",
        "colab": {
          "base_uri": "https://localhost:8080/"
        },
        "outputId": "8ee34b32-5d80-4bc1-d2a9-2cddf14d598f"
      },
      "outputs": [
        {
          "output_type": "stream",
          "name": "stdout",
          "text": [
            "Requirement already satisfied: pypdf in /usr/local/lib/python3.12/dist-packages (6.0.0)\n"
          ]
        },
        {
          "output_type": "stream",
          "name": "stderr",
          "text": [
            "[nltk_data] Downloading package punkt to /root/nltk_data...\n",
            "[nltk_data]   Package punkt is already up-to-date!\n",
            "[nltk_data] Downloading package brown to /root/nltk_data...\n",
            "[nltk_data]   Package brown is already up-to-date!\n",
            "[nltk_data] Downloading package punkt_tab to /root/nltk_data...\n",
            "[nltk_data]   Package punkt_tab is already up-to-date!\n"
          ]
        },
        {
          "output_type": "stream",
          "name": "stdout",
          "text": [
            "Mounted at /content/gdrive\n",
            "Libraries and Drive Ready!\n"
          ]
        }
      ],
      "source": [
        "#Install / load our libraries and connect to Google Drive\n",
        "\n",
        "!pip install pypdf\n",
        "\n",
        "#Colab has a special library just for working with files on google drive\n",
        "from google.colab import drive\n",
        "\n",
        "\n",
        "#This is a new library we'll use to extract text from PDFs\n",
        "from pypdf import PdfReader\n",
        "\n",
        "\n",
        "import textblob\n",
        "from textblob import TextBlob\n",
        "import pandas as pd\n",
        "import numpy as np\n",
        "import glob\n",
        "\n",
        "#Some extra libraries we'll need for text analysis\n",
        "import nltk\n",
        "nltk.download('punkt')\n",
        "nltk.download('brown')\n",
        "nltk.download('punkt_tab')\n",
        "\n",
        "#Connect to Gdrive\n",
        "drive.mount('/content/gdrive')\n",
        "\n",
        "print(\"Libraries and Drive Ready!\")"
      ]
    },
    {
      "cell_type": "markdown",
      "source": [
        "Here's a quick demo of how sentiment analysis works.  Polarity is a measure of postive or negative sentiment, and it ranges from -1 (very negative) to 1 (very positive.  Subjectivity is measured from 0 (factual statement) to 1 (personal opinion). Feel free to change out the sentences below to see how a particular sentence would rate."
      ],
      "metadata": {
        "id": "goHs9jco1fF6"
      }
    },
    {
      "cell_type": "code",
      "source": [
        "happy_sentence = \"I like chickens hatching.\"\n",
        "sad_sentence = \"This is just awful.\"\n",
        "opinion_sentence = \"I feel miserable.\"\n",
        "factual_sentence = \"The fish is swimming\"\n",
        "\n",
        "print(\"Sentiment of happy sentence \", TextBlob(happy_sentence).sentiment)\n",
        "print(\"Sentiment of sad sentence \", TextBlob(sad_sentence).sentiment)\n",
        "print(\"Sentiment of opinion sentence \", TextBlob(opinion_sentence).sentiment)\n",
        "print(\"Sentiment of factual sentence \", TextBlob(factual_sentence).sentiment)\n",
        "\n",
        "# polarity ranges from -1 to 1.\n",
        "# subjectvity ranges from 0 to 1.\n"
      ],
      "metadata": {
        "colab": {
          "base_uri": "https://localhost:8080/"
        },
        "id": "ZO27Q2381c72",
        "outputId": "5d0b4fc1-232e-49e8-ad45-0aeec33e78aa"
      },
      "execution_count": null,
      "outputs": [
        {
          "output_type": "stream",
          "name": "stdout",
          "text": [
            "Sentiment of happy sentence  Sentiment(polarity=0.0, subjectivity=0.0)\n",
            "Sentiment of sad sentence  Sentiment(polarity=-1.0, subjectivity=1.0)\n",
            "Sentiment of opinion sentence  Sentiment(polarity=-1.0, subjectivity=1.0)\n",
            "Sentiment of factual sentence  Sentiment(polarity=0.0, subjectivity=0.0)\n"
          ]
        }
      ]
    },
    {
      "cell_type": "code",
      "source": [
        "import requests\n",
        "import os\n",
        "import pandas as pd"
      ],
      "metadata": {
        "id": "ct4toVIwAD7O"
      },
      "execution_count": null,
      "outputs": []
    },
    {
      "cell_type": "markdown",
      "source": [
        "This part queries the Chronicling America API to get PDFs for sentiment analysis.  You can put in any URL here.  I did a search for pages with \"lincoln assassination\" on 4/17/1865 from a few states.  I limited my search results to only 3 for this notebook just to make sure it would run."
      ],
      "metadata": {
        "id": "qskZQsuj5hl1"
      }
    },
    {
      "cell_type": "code",
      "source": [
        "# Perform Query - Paste your API Search Query URL into the searchURL\n",
        "searchURL = 'https://www.loc.gov/collections/chronicling-america/?dl=page&end_date=1865-04-17&fa=location_state:district+of+columbia+OR+illinois+OR+indiana+OR+iowa+OR+maine+OR+massachusetts+OR+nevada+OR+virginia+OR+west+virginia&ops=~5&qs=lincoln+assassination&searchType=advanced&start_date=1865-04-17'\n",
        "\n",
        "# Add your desired file type (extension). Options Include: pdf, jpeg, and xml (OCR files)\n",
        "fileExtension = 'pdf'\n",
        "\n",
        "# Add your Local saveTo Location\n",
        "saveTo = '/content/gdrive/MyDrive/LibraryJuicePython/'"
      ],
      "metadata": {
        "id": "O_unELQX-YvB"
      },
      "execution_count": null,
      "outputs": []
    },
    {
      "cell_type": "code",
      "source": [
        "'''Run P1 search and get a list of results.'''\n",
        "def get_item_ids(url, items=[], conditional='True'):\n",
        "    # Check that the query URL is not an item or resource link.\n",
        "    exclude = [\"loc.gov/item\",\"loc.gov/resource\"]\n",
        "    if any(string in url for string in exclude):\n",
        "        raise NameError('Your URL points directly to an item or '\n",
        "                        'resource page (you can tell because \"item\" '\n",
        "                        'or \"resource\" is in the URL). Please use '\n",
        "                        'a search URL instead. For example, instead '\n",
        "                        'of \\\"https://www.loc.gov/item/2009581123/\\\", '\n",
        "                        'try \\\"https://www.loc.gov/maps/?q=2009581123\\\". ')\n",
        "\n",
        "    # request pages of 100 results at a time\n",
        "    params = {\"fo\": \"json\", \"c\": 100, \"at\": \"results,pagination\"}\n",
        "    call = requests.get(url, params=params)\n",
        "    # Check that the API request was successful\n",
        "    if (call.status_code==200) & ('json' in call.headers.get('content-type')):\n",
        "        data = call.json()\n",
        "        results = data['results']\n",
        "        for result in results:\n",
        "            # Filter out anything that's a colletion or web page\n",
        "            filter_out = (\"collection\" in result.get(\"original_format\")) \\\n",
        "                    or (\"web page\" in result.get(\"original_format\")) \\\n",
        "                    or (eval(conditional)==False)\n",
        "            if not filter_out:\n",
        "                # Get the link to the item record\n",
        "                if result.get(\"id\"):\n",
        "                    item = result.get(\"id\")\n",
        "                    # Filter out links to Catalog or other platforms\n",
        "                    if item.startswith(\"http://www.loc.gov/resource\"):\n",
        "                      resource = item  # Assign item to resource\n",
        "                      items.append(resource)\n",
        "                    if item.startswith(\"http://www.loc.gov/item\"):\n",
        "                        items.append(item)\n",
        "        # Repeat the loop on the next page, unless we're on the last page.\n",
        "        if data[\"pagination\"][\"next\"] is not None:\n",
        "            next_url = data[\"pagination\"][\"next\"]\n",
        "            get_item_ids(next_url, items, conditional)\n",
        "\n",
        "        return items\n",
        "    else:\n",
        "            print('There was a problem. Try running the cell again, or check your searchURL.')\n",
        "\n",
        "# Create ids_list based on searchURL results\n",
        "ids_list = get_item_ids(searchURL, items=[])\n",
        "\n",
        "# prompt: add 'fo=json' to the end of each row in ids_list\n",
        "\n",
        "new_ids = []\n",
        "for id in ids_list:\n",
        "  if not id.endswith('&fo=json'):\n",
        "    id += '&fo=json'\n",
        "  new_ids.append(id)\n",
        "ids = new_ids\n",
        "\n",
        "print('\\nSuccess. Your API Search Query found '+str(len(new_ids))+' related newspaper pages. You may now continue.')"
      ],
      "metadata": {
        "colab": {
          "base_uri": "https://localhost:8080/"
        },
        "id": "ySw2rVxr4t6R",
        "outputId": "96d93efb-5230-4b8a-b451-5b3c234a3639"
      },
      "execution_count": null,
      "outputs": [
        {
          "output_type": "stream",
          "name": "stdout",
          "text": [
            "\n",
            "Success. Your API Search Query found 21 related newspaper pages. You may now continue.\n"
          ]
        }
      ]
    },
    {
      "cell_type": "markdown",
      "source": [
        "This part downloads the PDFs to your Google Drive."
      ],
      "metadata": {
        "id": "fa8e5o8r6cja"
      }
    },
    {
      "cell_type": "code",
      "source": [
        "print('\\n'+str(len(new_ids))+' Downloaded Files')\n",
        "\n",
        "# prompt: print page_url if it matches the fileExtension\n",
        "\n",
        "for item in new_ids:\n",
        "    call = requests.get(item)\n",
        "    if call.status_code == 200:\n",
        "        data = call.json()\n",
        "        page = data['page']\n",
        "        for page in page:\n",
        "            if 'url' in page:\n",
        "                page_url = page['url']\n",
        "                if page_url.endswith(fileExtension):\n",
        "                    print(page_url)\n",
        "\n",
        "# Get the page URLs\n",
        "page_urls = []\n",
        "for item in new_ids:\n",
        "    call = requests.get(item)\n",
        "    if call.status_code == 200:\n",
        "        data = call.json()\n",
        "        page = data['page']\n",
        "        for page in page:\n",
        "            if 'url' in page:\n",
        "                page_url = page['url']\n",
        "                if page_url.endswith(fileExtension):\n",
        "                    page_urls.append(page_url)\n",
        "\n",
        "\n",
        "for page_url in page_urls:\n",
        "    # Extract parts of the URL to create the desired filename\n",
        "    url_parts = page_url.split('/')\n",
        "    sn_number = url_parts[9]\n",
        "    batch = url_parts[7]\n",
        "    year_month = url_parts[11]\n",
        "    original_filename = url_parts[-1]\n",
        "\n",
        "    # Create the new filename including the LCCN\n",
        "    filename = f\"{batch}_{sn_number}_{year_month}_{original_filename}\"\n",
        "\n",
        "    # Download the file\n",
        "    response = requests.get(page_url)\n",
        "    file_path = os.path.join(saveTo, filename) # Save directly to the saveTo folder\n",
        "    with open(file_path, 'wb') as f:\n",
        "        f.write(response.content)\n",
        "\n",
        "print('\\nSuccess! Please check your saveTo location to see the saved files. You can also redownload the selected files using the links above.')"
      ],
      "metadata": {
        "colab": {
          "base_uri": "https://localhost:8080/"
        },
        "id": "whhZQgOkAVfw",
        "outputId": "021d1a93-752c-4417-901f-7c1f7c02cb7b"
      },
      "execution_count": null,
      "outputs": [
        {
          "output_type": "stream",
          "name": "stdout",
          "text": [
            "\n",
            "3 Downloaded Files\n",
            "https://tile.loc.gov/storage-services/service/ndnp/iahi/batch_iahi_hypno_ver01/data/sn83045646/00279529170/1865041701/0514.pdf\n",
            "https://tile.loc.gov/storage-services/service/ndnp/iahi/batch_iahi_hypno_ver01/data/sn83045646/00279529170/1865041701/0515.pdf\n",
            "https://tile.loc.gov/storage-services/service/ndnp/iahi/batch_iahi_hypno_ver01/data/sn83045646/00279529170/1865041701/0517.pdf\n",
            "\n",
            "Success! Please check your saveTo location to see the saved files. You can also redownload the selected files using the links above.\n"
          ]
        }
      ]
    },
    {
      "cell_type": "markdown",
      "source": [
        "**H1**\n",
        "If you wanted to do this for non ChronAm pages, you could just put any PDFs in your Google Drive, and the following code would run sentiment analysis on them.  \n"
      ],
      "metadata": {
        "id": "crlW8hc4XmMW"
      }
    },
    {
      "cell_type": "code",
      "source": [
        "#Run this cell to see the files in your directory\n",
        "for file in glob.glob(\"/content/gdrive/MyDrive/LibraryJuicePython/*.pdf\"):\n",
        "  print(file)"
      ],
      "metadata": {
        "id": "hdYxiWbaaX6y",
        "colab": {
          "base_uri": "https://localhost:8080/"
        },
        "outputId": "f23ca276-de93-41eb-97cd-f305d95d1a89"
      },
      "execution_count": null,
      "outputs": [
        {
          "output_type": "stream",
          "name": "stdout",
          "text": [
            "/content/gdrive/MyDrive/LibraryJuicePython/batch_iahi_hypno_ver01_sn83045646_1865041701_0514.pdf\n",
            "/content/gdrive/MyDrive/LibraryJuicePython/batch_iahi_hypno_ver01_sn83045646_1865041701_0515.pdf\n",
            "/content/gdrive/MyDrive/LibraryJuicePython/batch_iahi_hypno_ver01_sn83045646_1865041701_0517.pdf\n"
          ]
        }
      ]
    },
    {
      "cell_type": "markdown",
      "source": [
        "# Exracting the text from the PDFs\n",
        "\n",
        "We'll use a Python Library to create a text file of the contents of the PDF file."
      ],
      "metadata": {
        "id": "iHnzIlqHbil-"
      }
    },
    {
      "cell_type": "code",
      "source": [
        "\n",
        "for file in glob.glob(\"/content/gdrive/MyDrive/LibraryJuicePython/*.pdf\"):\n",
        "  filename = file.split(\"/\")[-1]\n",
        "  print(\"Extracting text for... \",filename)\n",
        "\n",
        "  text = \"\"\n",
        "  #This bit is new!\n",
        "  reader = PdfReader(file)\n",
        "  for page in reader.pages:\n",
        "    text += page.extract_text()\n",
        "\n",
        "  #Output the string variable into a text file\n",
        "  output_text_file = filename+\".txt\"\n",
        "  with open(output_text_file, \"w\") as text_file:\n",
        "    text_file.write(text)"
      ],
      "metadata": {
        "id": "vJW_SqpybeTJ",
        "colab": {
          "base_uri": "https://localhost:8080/"
        },
        "outputId": "a4302976-e56d-46cc-b809-98f42f3ab86a"
      },
      "execution_count": null,
      "outputs": [
        {
          "output_type": "stream",
          "name": "stdout",
          "text": [
            "Extracting text for...  batch_iahi_hypno_ver01_sn83045646_1865041701_0514.pdf\n",
            "Extracting text for...  batch_iahi_hypno_ver01_sn83045646_1865041701_0515.pdf\n",
            "Extracting text for...  batch_iahi_hypno_ver01_sn83045646_1865041701_0517.pdf\n"
          ]
        }
      ]
    },
    {
      "cell_type": "markdown",
      "source": [
        "# Sentiment of our PDFs\n",
        "\n",
        "Let's just print our sentiment scores to the screen for now."
      ],
      "metadata": {
        "id": "Odn0QuzyfsS1"
      }
    },
    {
      "cell_type": "code",
      "source": [
        "for file in glob.glob(\"*.txt\"):\n",
        "  print(\"Sentiment for \",file)\n",
        "  with open(file,\"r\") as text_file:\n",
        "    text = text_file.read()\n",
        "    blob = textblob.TextBlob(text)\n",
        "    print(blob.sentiment)\n",
        "    print(\"---\")"
      ],
      "metadata": {
        "id": "f-7iyRJwf1WT",
        "colab": {
          "base_uri": "https://localhost:8080/"
        },
        "outputId": "2a7652a3-1427-48ca-c1c2-70dccd3fc296"
      },
      "execution_count": null,
      "outputs": [
        {
          "output_type": "stream",
          "name": "stdout",
          "text": [
            "Sentiment for  batch_iahi_hypno_ver01_sn83045646_1865041701_0517.pdf.txt\n",
            "Sentiment(polarity=0.08061743269751084, subjectivity=0.4410866397224572)\n",
            "---\n",
            "Sentiment for  batch_iahi_hypno_ver01_sn83045646_1865041701_0514.pdf.txt\n",
            "Sentiment(polarity=0.14144005831060988, subjectivity=0.48240064601274585)\n",
            "---\n",
            "Sentiment for  batch_iahi_hypno_ver01_sn83045646_1865041701_0515.pdf.txt\n",
            "Sentiment(polarity=0.11220078550787209, subjectivity=0.4379428329034628)\n",
            "---\n"
          ]
        }
      ]
    },
    {
      "cell_type": "markdown",
      "source": [
        "# Noun Phrases of our PDFs\n",
        "\n",
        "We'll just do the top 3 keywords of each file and display it to the screen"
      ],
      "metadata": {
        "id": "IJTnMcRmfu4x"
      }
    },
    {
      "cell_type": "code",
      "source": [
        "for file in glob.glob(\"*.txt\"):\n",
        "  print(\"Top 5 Phrases for \",file)\n",
        "  with open(file,\"r\") as text_file:\n",
        "    text = text_file.read()\n",
        "\n",
        "  blob = textblob.TextBlob(text)\n",
        "  nphrases = dict()\n",
        "\n",
        "  for np in blob.noun_phrases:\n",
        "    if np in nphrases:\n",
        "         nphrases[np] += 1\n",
        "    else:\n",
        "         nphrases[np] = 1\n",
        "\n",
        "  for np in sorted(nphrases, key=nphrases.get, reverse=True)[0:3]:\n",
        "      print(np, nphrases[np])\n",
        "\n",
        "  print(\"---\")"
      ],
      "metadata": {
        "id": "m29mk0GUf1uy",
        "colab": {
          "base_uri": "https://localhost:8080/"
        },
        "outputId": "0adf76d5-0e51-4057-ffe9-14613cf40c84"
      },
      "execution_count": null,
      "outputs": [
        {
          "output_type": "stream",
          "name": "stdout",
          "text": [
            "Top 5 Phrases for  batch_iahi_hypno_ver01_sn83045646_1865041701_0517.pdf.txt\n",
            "april 18\n",
            "ihe 9\n",
            "booth 9\n",
            "---\n",
            "Top 5 Phrases for  batch_iahi_hypno_ver01_sn83045646_1865041701_0514.pdf.txt\n",
            "davenport 10\n",
            "brady 8\n",
            "april 5\n",
            "---\n",
            "Top 5 Phrases for  batch_iahi_hypno_ver01_sn83045646_1865041701_0515.pdf.txt\n",
            "april 16\n",
            "will 10\n",
            "booth 6\n",
            "---\n"
          ]
        }
      ]
    },
    {
      "cell_type": "markdown",
      "source": [
        "\n",
        "# Dataframe of results\n",
        "\n",
        "Let's put our findings into a dataframe and save them to our drive."
      ],
      "metadata": {
        "id": "v17NlI3KlaSP"
      }
    },
    {
      "cell_type": "code",
      "source": [
        "\n",
        "data_set = []\n",
        "\n",
        "for file in glob.glob(\"*.txt\"):\n",
        "\n",
        "  pdf_detail = []\n",
        "\n",
        "  with open(file,\"r\") as text_file:\n",
        "    text = text_file.read()\n",
        "  blob = textblob.TextBlob(text)\n",
        "\n",
        "  print(\"working on \",file)\n",
        "  pdf_detail.append(file)\n",
        "  pdf_detail.append(blob.sentiment.polarity)\n",
        "  pdf_detail.append(blob.sentiment.subjectivity)\n",
        "\n",
        "\n",
        "  nphrases = dict()\n",
        "  for np in blob.noun_phrases:\n",
        "    if np in nphrases:\n",
        "      nphrases[np] += 1\n",
        "    else:\n",
        "      nphrases[np] = 1\n",
        "\n",
        "  #This is a weird way to find the top three keywords\n",
        "  #This is an example of 'hacky' code\n",
        "\n",
        "  #we loop through the first entry [0:1] in the sorted keyword list\n",
        "  #giving us keyword one\n",
        "  for np in sorted(nphrases, key=nphrases.get, reverse=True)[0:1]:\n",
        "      keyword_one = np\n",
        "      pdf_detail.append(keyword_one)\n",
        "\n",
        "  #we loop through the first entry [1:2] in the sorted keyword list\n",
        "  #giving us keyword two\n",
        "  for np in sorted(nphrases, key=nphrases.get, reverse=True)[1:2]:\n",
        "      keyword_two = np\n",
        "      pdf_detail.append(keyword_two)\n",
        "\n",
        "  #we loop through the first entry [2:3] in the sorted keyword list\n",
        "  #giving us keyword two\n",
        "  for np in sorted(nphrases, key=nphrases.get, reverse=True)[2:3]:\n",
        "      keyword_three = np\n",
        "      pdf_detail.append(keyword_three)\n",
        "\n",
        "  data_set.append(pdf_detail)\n",
        "  print(pdf_detail)\n",
        "  print(\"---\")\n"
      ],
      "metadata": {
        "id": "REUlvB6glsFI",
        "colab": {
          "base_uri": "https://localhost:8080/"
        },
        "outputId": "e4e66d22-35db-447d-ff68-ab2b4b1aba2e"
      },
      "execution_count": null,
      "outputs": [
        {
          "output_type": "stream",
          "name": "stdout",
          "text": [
            "working on  batch_iahi_hypno_ver01_sn83045646_1865041701_0517.pdf.txt\n",
            "['batch_iahi_hypno_ver01_sn83045646_1865041701_0517.pdf.txt', 0.08061743269751084, 0.4410866397224572, 'april', 'ihe', 'booth']\n",
            "---\n",
            "working on  batch_iahi_hypno_ver01_sn83045646_1865041701_0514.pdf.txt\n",
            "['batch_iahi_hypno_ver01_sn83045646_1865041701_0514.pdf.txt', 0.14144005831060988, 0.48240064601274585, 'davenport', 'brady', 'april']\n",
            "---\n",
            "working on  batch_iahi_hypno_ver01_sn83045646_1865041701_0515.pdf.txt\n",
            "['batch_iahi_hypno_ver01_sn83045646_1865041701_0515.pdf.txt', 0.11220078550787209, 0.4379428329034628, 'april', 'will', 'booth']\n",
            "---\n"
          ]
        }
      ]
    },
    {
      "cell_type": "code",
      "source": [
        "#We now have a list of lists\n",
        "#This sorta looks like JSON doesn't it?\n",
        "data_set"
      ],
      "metadata": {
        "id": "MdsgrzN4SaEQ",
        "colab": {
          "base_uri": "https://localhost:8080/"
        },
        "outputId": "d307704b-1ed4-4bc7-f43d-d832160cc0b8"
      },
      "execution_count": null,
      "outputs": [
        {
          "output_type": "execute_result",
          "data": {
            "text/plain": [
              "[['batch_iahi_hypno_ver01_sn83045646_1865041701_0517.pdf.txt',\n",
              "  0.08061743269751084,\n",
              "  0.4410866397224572,\n",
              "  'april',\n",
              "  'ihe',\n",
              "  'booth'],\n",
              " ['batch_iahi_hypno_ver01_sn83045646_1865041701_0514.pdf.txt',\n",
              "  0.14144005831060988,\n",
              "  0.48240064601274585,\n",
              "  'davenport',\n",
              "  'brady',\n",
              "  'april'],\n",
              " ['batch_iahi_hypno_ver01_sn83045646_1865041701_0515.pdf.txt',\n",
              "  0.11220078550787209,\n",
              "  0.4379428329034628,\n",
              "  'april',\n",
              "  'will',\n",
              "  'booth']]"
            ]
          },
          "metadata": {},
          "execution_count": 15
        }
      ]
    },
    {
      "cell_type": "code",
      "source": [
        "#Let's turn this list of lists into a pandas dataframe\n",
        "pdf_dataframe = pd.DataFrame(data_set)\n",
        "pdf_dataframe"
      ],
      "metadata": {
        "id": "J97yyY1PSoH9",
        "colab": {
          "base_uri": "https://localhost:8080/",
          "height": 143
        },
        "outputId": "20be7484-cc90-4c0d-eb31-11b36206c4eb"
      },
      "execution_count": null,
      "outputs": [
        {
          "output_type": "execute_result",
          "data": {
            "text/plain": [
              "                                                   0         1         2  \\\n",
              "0  batch_iahi_hypno_ver01_sn83045646_1865041701_0...  0.080617  0.441087   \n",
              "1  batch_iahi_hypno_ver01_sn83045646_1865041701_0...  0.141440  0.482401   \n",
              "2  batch_iahi_hypno_ver01_sn83045646_1865041701_0...  0.112201  0.437943   \n",
              "\n",
              "           3      4      5  \n",
              "0      april    ihe  booth  \n",
              "1  davenport  brady  april  \n",
              "2      april   will  booth  "
            ],
            "text/html": [
              "\n",
              "  <div id=\"df-f4d55e11-1c19-44bf-8f6b-0febae281c49\" class=\"colab-df-container\">\n",
              "    <div>\n",
              "<style scoped>\n",
              "    .dataframe tbody tr th:only-of-type {\n",
              "        vertical-align: middle;\n",
              "    }\n",
              "\n",
              "    .dataframe tbody tr th {\n",
              "        vertical-align: top;\n",
              "    }\n",
              "\n",
              "    .dataframe thead th {\n",
              "        text-align: right;\n",
              "    }\n",
              "</style>\n",
              "<table border=\"1\" class=\"dataframe\">\n",
              "  <thead>\n",
              "    <tr style=\"text-align: right;\">\n",
              "      <th></th>\n",
              "      <th>0</th>\n",
              "      <th>1</th>\n",
              "      <th>2</th>\n",
              "      <th>3</th>\n",
              "      <th>4</th>\n",
              "      <th>5</th>\n",
              "    </tr>\n",
              "  </thead>\n",
              "  <tbody>\n",
              "    <tr>\n",
              "      <th>0</th>\n",
              "      <td>batch_iahi_hypno_ver01_sn83045646_1865041701_0...</td>\n",
              "      <td>0.080617</td>\n",
              "      <td>0.441087</td>\n",
              "      <td>april</td>\n",
              "      <td>ihe</td>\n",
              "      <td>booth</td>\n",
              "    </tr>\n",
              "    <tr>\n",
              "      <th>1</th>\n",
              "      <td>batch_iahi_hypno_ver01_sn83045646_1865041701_0...</td>\n",
              "      <td>0.141440</td>\n",
              "      <td>0.482401</td>\n",
              "      <td>davenport</td>\n",
              "      <td>brady</td>\n",
              "      <td>april</td>\n",
              "    </tr>\n",
              "    <tr>\n",
              "      <th>2</th>\n",
              "      <td>batch_iahi_hypno_ver01_sn83045646_1865041701_0...</td>\n",
              "      <td>0.112201</td>\n",
              "      <td>0.437943</td>\n",
              "      <td>april</td>\n",
              "      <td>will</td>\n",
              "      <td>booth</td>\n",
              "    </tr>\n",
              "  </tbody>\n",
              "</table>\n",
              "</div>\n",
              "    <div class=\"colab-df-buttons\">\n",
              "\n",
              "  <div class=\"colab-df-container\">\n",
              "    <button class=\"colab-df-convert\" onclick=\"convertToInteractive('df-f4d55e11-1c19-44bf-8f6b-0febae281c49')\"\n",
              "            title=\"Convert this dataframe to an interactive table.\"\n",
              "            style=\"display:none;\">\n",
              "\n",
              "  <svg xmlns=\"http://www.w3.org/2000/svg\" height=\"24px\" viewBox=\"0 -960 960 960\">\n",
              "    <path d=\"M120-120v-720h720v720H120Zm60-500h600v-160H180v160Zm220 220h160v-160H400v160Zm0 220h160v-160H400v160ZM180-400h160v-160H180v160Zm440 0h160v-160H620v160ZM180-180h160v-160H180v160Zm440 0h160v-160H620v160Z\"/>\n",
              "  </svg>\n",
              "    </button>\n",
              "\n",
              "  <style>\n",
              "    .colab-df-container {\n",
              "      display:flex;\n",
              "      gap: 12px;\n",
              "    }\n",
              "\n",
              "    .colab-df-convert {\n",
              "      background-color: #E8F0FE;\n",
              "      border: none;\n",
              "      border-radius: 50%;\n",
              "      cursor: pointer;\n",
              "      display: none;\n",
              "      fill: #1967D2;\n",
              "      height: 32px;\n",
              "      padding: 0 0 0 0;\n",
              "      width: 32px;\n",
              "    }\n",
              "\n",
              "    .colab-df-convert:hover {\n",
              "      background-color: #E2EBFA;\n",
              "      box-shadow: 0px 1px 2px rgba(60, 64, 67, 0.3), 0px 1px 3px 1px rgba(60, 64, 67, 0.15);\n",
              "      fill: #174EA6;\n",
              "    }\n",
              "\n",
              "    .colab-df-buttons div {\n",
              "      margin-bottom: 4px;\n",
              "    }\n",
              "\n",
              "    [theme=dark] .colab-df-convert {\n",
              "      background-color: #3B4455;\n",
              "      fill: #D2E3FC;\n",
              "    }\n",
              "\n",
              "    [theme=dark] .colab-df-convert:hover {\n",
              "      background-color: #434B5C;\n",
              "      box-shadow: 0px 1px 3px 1px rgba(0, 0, 0, 0.15);\n",
              "      filter: drop-shadow(0px 1px 2px rgba(0, 0, 0, 0.3));\n",
              "      fill: #FFFFFF;\n",
              "    }\n",
              "  </style>\n",
              "\n",
              "    <script>\n",
              "      const buttonEl =\n",
              "        document.querySelector('#df-f4d55e11-1c19-44bf-8f6b-0febae281c49 button.colab-df-convert');\n",
              "      buttonEl.style.display =\n",
              "        google.colab.kernel.accessAllowed ? 'block' : 'none';\n",
              "\n",
              "      async function convertToInteractive(key) {\n",
              "        const element = document.querySelector('#df-f4d55e11-1c19-44bf-8f6b-0febae281c49');\n",
              "        const dataTable =\n",
              "          await google.colab.kernel.invokeFunction('convertToInteractive',\n",
              "                                                    [key], {});\n",
              "        if (!dataTable) return;\n",
              "\n",
              "        const docLinkHtml = 'Like what you see? Visit the ' +\n",
              "          '<a target=\"_blank\" href=https://colab.research.google.com/notebooks/data_table.ipynb>data table notebook</a>'\n",
              "          + ' to learn more about interactive tables.';\n",
              "        element.innerHTML = '';\n",
              "        dataTable['output_type'] = 'display_data';\n",
              "        await google.colab.output.renderOutput(dataTable, element);\n",
              "        const docLink = document.createElement('div');\n",
              "        docLink.innerHTML = docLinkHtml;\n",
              "        element.appendChild(docLink);\n",
              "      }\n",
              "    </script>\n",
              "  </div>\n",
              "\n",
              "\n",
              "    <div id=\"df-b7c497d5-0fe2-4d7d-96f6-02c28d8f1cfe\">\n",
              "      <button class=\"colab-df-quickchart\" onclick=\"quickchart('df-b7c497d5-0fe2-4d7d-96f6-02c28d8f1cfe')\"\n",
              "                title=\"Suggest charts\"\n",
              "                style=\"display:none;\">\n",
              "\n",
              "<svg xmlns=\"http://www.w3.org/2000/svg\" height=\"24px\"viewBox=\"0 0 24 24\"\n",
              "     width=\"24px\">\n",
              "    <g>\n",
              "        <path d=\"M19 3H5c-1.1 0-2 .9-2 2v14c0 1.1.9 2 2 2h14c1.1 0 2-.9 2-2V5c0-1.1-.9-2-2-2zM9 17H7v-7h2v7zm4 0h-2V7h2v10zm4 0h-2v-4h2v4z\"/>\n",
              "    </g>\n",
              "</svg>\n",
              "      </button>\n",
              "\n",
              "<style>\n",
              "  .colab-df-quickchart {\n",
              "      --bg-color: #E8F0FE;\n",
              "      --fill-color: #1967D2;\n",
              "      --hover-bg-color: #E2EBFA;\n",
              "      --hover-fill-color: #174EA6;\n",
              "      --disabled-fill-color: #AAA;\n",
              "      --disabled-bg-color: #DDD;\n",
              "  }\n",
              "\n",
              "  [theme=dark] .colab-df-quickchart {\n",
              "      --bg-color: #3B4455;\n",
              "      --fill-color: #D2E3FC;\n",
              "      --hover-bg-color: #434B5C;\n",
              "      --hover-fill-color: #FFFFFF;\n",
              "      --disabled-bg-color: #3B4455;\n",
              "      --disabled-fill-color: #666;\n",
              "  }\n",
              "\n",
              "  .colab-df-quickchart {\n",
              "    background-color: var(--bg-color);\n",
              "    border: none;\n",
              "    border-radius: 50%;\n",
              "    cursor: pointer;\n",
              "    display: none;\n",
              "    fill: var(--fill-color);\n",
              "    height: 32px;\n",
              "    padding: 0;\n",
              "    width: 32px;\n",
              "  }\n",
              "\n",
              "  .colab-df-quickchart:hover {\n",
              "    background-color: var(--hover-bg-color);\n",
              "    box-shadow: 0 1px 2px rgba(60, 64, 67, 0.3), 0 1px 3px 1px rgba(60, 64, 67, 0.15);\n",
              "    fill: var(--button-hover-fill-color);\n",
              "  }\n",
              "\n",
              "  .colab-df-quickchart-complete:disabled,\n",
              "  .colab-df-quickchart-complete:disabled:hover {\n",
              "    background-color: var(--disabled-bg-color);\n",
              "    fill: var(--disabled-fill-color);\n",
              "    box-shadow: none;\n",
              "  }\n",
              "\n",
              "  .colab-df-spinner {\n",
              "    border: 2px solid var(--fill-color);\n",
              "    border-color: transparent;\n",
              "    border-bottom-color: var(--fill-color);\n",
              "    animation:\n",
              "      spin 1s steps(1) infinite;\n",
              "  }\n",
              "\n",
              "  @keyframes spin {\n",
              "    0% {\n",
              "      border-color: transparent;\n",
              "      border-bottom-color: var(--fill-color);\n",
              "      border-left-color: var(--fill-color);\n",
              "    }\n",
              "    20% {\n",
              "      border-color: transparent;\n",
              "      border-left-color: var(--fill-color);\n",
              "      border-top-color: var(--fill-color);\n",
              "    }\n",
              "    30% {\n",
              "      border-color: transparent;\n",
              "      border-left-color: var(--fill-color);\n",
              "      border-top-color: var(--fill-color);\n",
              "      border-right-color: var(--fill-color);\n",
              "    }\n",
              "    40% {\n",
              "      border-color: transparent;\n",
              "      border-right-color: var(--fill-color);\n",
              "      border-top-color: var(--fill-color);\n",
              "    }\n",
              "    60% {\n",
              "      border-color: transparent;\n",
              "      border-right-color: var(--fill-color);\n",
              "    }\n",
              "    80% {\n",
              "      border-color: transparent;\n",
              "      border-right-color: var(--fill-color);\n",
              "      border-bottom-color: var(--fill-color);\n",
              "    }\n",
              "    90% {\n",
              "      border-color: transparent;\n",
              "      border-bottom-color: var(--fill-color);\n",
              "    }\n",
              "  }\n",
              "</style>\n",
              "\n",
              "      <script>\n",
              "        async function quickchart(key) {\n",
              "          const quickchartButtonEl =\n",
              "            document.querySelector('#' + key + ' button');\n",
              "          quickchartButtonEl.disabled = true;  // To prevent multiple clicks.\n",
              "          quickchartButtonEl.classList.add('colab-df-spinner');\n",
              "          try {\n",
              "            const charts = await google.colab.kernel.invokeFunction(\n",
              "                'suggestCharts', [key], {});\n",
              "          } catch (error) {\n",
              "            console.error('Error during call to suggestCharts:', error);\n",
              "          }\n",
              "          quickchartButtonEl.classList.remove('colab-df-spinner');\n",
              "          quickchartButtonEl.classList.add('colab-df-quickchart-complete');\n",
              "        }\n",
              "        (() => {\n",
              "          let quickchartButtonEl =\n",
              "            document.querySelector('#df-b7c497d5-0fe2-4d7d-96f6-02c28d8f1cfe button');\n",
              "          quickchartButtonEl.style.display =\n",
              "            google.colab.kernel.accessAllowed ? 'block' : 'none';\n",
              "        })();\n",
              "      </script>\n",
              "    </div>\n",
              "\n",
              "  <div id=\"id_6c5ab619-c9f2-44fb-b360-10e97d2406b1\">\n",
              "    <style>\n",
              "      .colab-df-generate {\n",
              "        background-color: #E8F0FE;\n",
              "        border: none;\n",
              "        border-radius: 50%;\n",
              "        cursor: pointer;\n",
              "        display: none;\n",
              "        fill: #1967D2;\n",
              "        height: 32px;\n",
              "        padding: 0 0 0 0;\n",
              "        width: 32px;\n",
              "      }\n",
              "\n",
              "      .colab-df-generate:hover {\n",
              "        background-color: #E2EBFA;\n",
              "        box-shadow: 0px 1px 2px rgba(60, 64, 67, 0.3), 0px 1px 3px 1px rgba(60, 64, 67, 0.15);\n",
              "        fill: #174EA6;\n",
              "      }\n",
              "\n",
              "      [theme=dark] .colab-df-generate {\n",
              "        background-color: #3B4455;\n",
              "        fill: #D2E3FC;\n",
              "      }\n",
              "\n",
              "      [theme=dark] .colab-df-generate:hover {\n",
              "        background-color: #434B5C;\n",
              "        box-shadow: 0px 1px 3px 1px rgba(0, 0, 0, 0.15);\n",
              "        filter: drop-shadow(0px 1px 2px rgba(0, 0, 0, 0.3));\n",
              "        fill: #FFFFFF;\n",
              "      }\n",
              "    </style>\n",
              "    <button class=\"colab-df-generate\" onclick=\"generateWithVariable('pdf_dataframe')\"\n",
              "            title=\"Generate code using this dataframe.\"\n",
              "            style=\"display:none;\">\n",
              "\n",
              "  <svg xmlns=\"http://www.w3.org/2000/svg\" height=\"24px\"viewBox=\"0 0 24 24\"\n",
              "       width=\"24px\">\n",
              "    <path d=\"M7,19H8.4L18.45,9,17,7.55,7,17.6ZM5,21V16.75L18.45,3.32a2,2,0,0,1,2.83,0l1.4,1.43a1.91,1.91,0,0,1,.58,1.4,1.91,1.91,0,0,1-.58,1.4L9.25,21ZM18.45,9,17,7.55Zm-12,3A5.31,5.31,0,0,0,4.9,8.1,5.31,5.31,0,0,0,1,6.5,5.31,5.31,0,0,0,4.9,4.9,5.31,5.31,0,0,0,6.5,1,5.31,5.31,0,0,0,8.1,4.9,5.31,5.31,0,0,0,12,6.5,5.46,5.46,0,0,0,6.5,12Z\"/>\n",
              "  </svg>\n",
              "    </button>\n",
              "    <script>\n",
              "      (() => {\n",
              "      const buttonEl =\n",
              "        document.querySelector('#id_6c5ab619-c9f2-44fb-b360-10e97d2406b1 button.colab-df-generate');\n",
              "      buttonEl.style.display =\n",
              "        google.colab.kernel.accessAllowed ? 'block' : 'none';\n",
              "\n",
              "      buttonEl.onclick = () => {\n",
              "        google.colab.notebook.generateWithVariable('pdf_dataframe');\n",
              "      }\n",
              "      })();\n",
              "    </script>\n",
              "  </div>\n",
              "\n",
              "    </div>\n",
              "  </div>\n"
            ],
            "application/vnd.google.colaboratory.intrinsic+json": {
              "type": "dataframe",
              "variable_name": "pdf_dataframe",
              "summary": "{\n  \"name\": \"pdf_dataframe\",\n  \"rows\": 3,\n  \"fields\": [\n    {\n      \"column\": 0,\n      \"properties\": {\n        \"dtype\": \"string\",\n        \"num_unique_values\": 3,\n        \"samples\": [\n          \"batch_iahi_hypno_ver01_sn83045646_1865041701_0517.pdf.txt\",\n          \"batch_iahi_hypno_ver01_sn83045646_1865041701_0514.pdf.txt\",\n          \"batch_iahi_hypno_ver01_sn83045646_1865041701_0515.pdf.txt\"\n        ],\n        \"semantic_type\": \"\",\n        \"description\": \"\"\n      }\n    },\n    {\n      \"column\": 1,\n      \"properties\": {\n        \"dtype\": \"number\",\n        \"std\": 0.030418840201558984,\n        \"min\": 0.08061743269751084,\n        \"max\": 0.14144005831060988,\n        \"num_unique_values\": 3,\n        \"samples\": [\n          0.08061743269751084,\n          0.14144005831060988,\n          0.11220078550787209\n        ],\n        \"semantic_type\": \"\",\n        \"description\": \"\"\n      }\n    },\n    {\n      \"column\": 2,\n      \"properties\": {\n        \"dtype\": \"number\",\n        \"std\": 0.024810037563887673,\n        \"min\": 0.4379428329034628,\n        \"max\": 0.48240064601274585,\n        \"num_unique_values\": 3,\n        \"samples\": [\n          0.4410866397224572,\n          0.48240064601274585,\n          0.4379428329034628\n        ],\n        \"semantic_type\": \"\",\n        \"description\": \"\"\n      }\n    },\n    {\n      \"column\": 3,\n      \"properties\": {\n        \"dtype\": \"string\",\n        \"num_unique_values\": 2,\n        \"samples\": [\n          \"davenport\",\n          \"april\"\n        ],\n        \"semantic_type\": \"\",\n        \"description\": \"\"\n      }\n    },\n    {\n      \"column\": 4,\n      \"properties\": {\n        \"dtype\": \"string\",\n        \"num_unique_values\": 3,\n        \"samples\": [\n          \"ihe\",\n          \"brady\"\n        ],\n        \"semantic_type\": \"\",\n        \"description\": \"\"\n      }\n    },\n    {\n      \"column\": 5,\n      \"properties\": {\n        \"dtype\": \"string\",\n        \"num_unique_values\": 2,\n        \"samples\": [\n          \"april\",\n          \"booth\"\n        ],\n        \"semantic_type\": \"\",\n        \"description\": \"\"\n      }\n    }\n  ]\n}"
            }
          },
          "metadata": {},
          "execution_count": 16
        }
      ]
    },
    {
      "cell_type": "markdown",
      "source": [
        "**H2**\n",
        "\n",
        "Our dataframe needs better column names. Put the appropriate values into the list below on line 1 to update the column names."
      ],
      "metadata": {
        "id": "teCBxk1NTkGa"
      }
    },
    {
      "cell_type": "code",
      "source": [
        "column_names = [\"PDFname\",\"polarity\",\"subjectivity\",\"NounPhrase1\",\"NounPhrase2\",\"NounPhrase3\"]\n",
        "pdf_dataframe.columns = column_names\n",
        "pdf_dataframe"
      ],
      "metadata": {
        "id": "mu6bLHFATjrn",
        "colab": {
          "base_uri": "https://localhost:8080/",
          "height": 143
        },
        "outputId": "3b3754d0-f27f-481b-9369-fe8ba3f0a288"
      },
      "execution_count": null,
      "outputs": [
        {
          "output_type": "execute_result",
          "data": {
            "text/plain": [
              "                                             PDFname  polarity  subjectivity  \\\n",
              "0  batch_iahi_hypno_ver01_sn83045646_1865041701_0...  0.080617      0.441087   \n",
              "1  batch_iahi_hypno_ver01_sn83045646_1865041701_0...  0.141440      0.482401   \n",
              "2  batch_iahi_hypno_ver01_sn83045646_1865041701_0...  0.112201      0.437943   \n",
              "\n",
              "  NounPhrase1 NounPhrase2 NounPhrase3  \n",
              "0       april         ihe       booth  \n",
              "1   davenport       brady       april  \n",
              "2       april        will       booth  "
            ],
            "text/html": [
              "\n",
              "  <div id=\"df-cea3bb04-3f5c-462d-97bb-fdc51c3761e4\" class=\"colab-df-container\">\n",
              "    <div>\n",
              "<style scoped>\n",
              "    .dataframe tbody tr th:only-of-type {\n",
              "        vertical-align: middle;\n",
              "    }\n",
              "\n",
              "    .dataframe tbody tr th {\n",
              "        vertical-align: top;\n",
              "    }\n",
              "\n",
              "    .dataframe thead th {\n",
              "        text-align: right;\n",
              "    }\n",
              "</style>\n",
              "<table border=\"1\" class=\"dataframe\">\n",
              "  <thead>\n",
              "    <tr style=\"text-align: right;\">\n",
              "      <th></th>\n",
              "      <th>PDFname</th>\n",
              "      <th>polarity</th>\n",
              "      <th>subjectivity</th>\n",
              "      <th>NounPhrase1</th>\n",
              "      <th>NounPhrase2</th>\n",
              "      <th>NounPhrase3</th>\n",
              "    </tr>\n",
              "  </thead>\n",
              "  <tbody>\n",
              "    <tr>\n",
              "      <th>0</th>\n",
              "      <td>batch_iahi_hypno_ver01_sn83045646_1865041701_0...</td>\n",
              "      <td>0.080617</td>\n",
              "      <td>0.441087</td>\n",
              "      <td>april</td>\n",
              "      <td>ihe</td>\n",
              "      <td>booth</td>\n",
              "    </tr>\n",
              "    <tr>\n",
              "      <th>1</th>\n",
              "      <td>batch_iahi_hypno_ver01_sn83045646_1865041701_0...</td>\n",
              "      <td>0.141440</td>\n",
              "      <td>0.482401</td>\n",
              "      <td>davenport</td>\n",
              "      <td>brady</td>\n",
              "      <td>april</td>\n",
              "    </tr>\n",
              "    <tr>\n",
              "      <th>2</th>\n",
              "      <td>batch_iahi_hypno_ver01_sn83045646_1865041701_0...</td>\n",
              "      <td>0.112201</td>\n",
              "      <td>0.437943</td>\n",
              "      <td>april</td>\n",
              "      <td>will</td>\n",
              "      <td>booth</td>\n",
              "    </tr>\n",
              "  </tbody>\n",
              "</table>\n",
              "</div>\n",
              "    <div class=\"colab-df-buttons\">\n",
              "\n",
              "  <div class=\"colab-df-container\">\n",
              "    <button class=\"colab-df-convert\" onclick=\"convertToInteractive('df-cea3bb04-3f5c-462d-97bb-fdc51c3761e4')\"\n",
              "            title=\"Convert this dataframe to an interactive table.\"\n",
              "            style=\"display:none;\">\n",
              "\n",
              "  <svg xmlns=\"http://www.w3.org/2000/svg\" height=\"24px\" viewBox=\"0 -960 960 960\">\n",
              "    <path d=\"M120-120v-720h720v720H120Zm60-500h600v-160H180v160Zm220 220h160v-160H400v160Zm0 220h160v-160H400v160ZM180-400h160v-160H180v160Zm440 0h160v-160H620v160ZM180-180h160v-160H180v160Zm440 0h160v-160H620v160Z\"/>\n",
              "  </svg>\n",
              "    </button>\n",
              "\n",
              "  <style>\n",
              "    .colab-df-container {\n",
              "      display:flex;\n",
              "      gap: 12px;\n",
              "    }\n",
              "\n",
              "    .colab-df-convert {\n",
              "      background-color: #E8F0FE;\n",
              "      border: none;\n",
              "      border-radius: 50%;\n",
              "      cursor: pointer;\n",
              "      display: none;\n",
              "      fill: #1967D2;\n",
              "      height: 32px;\n",
              "      padding: 0 0 0 0;\n",
              "      width: 32px;\n",
              "    }\n",
              "\n",
              "    .colab-df-convert:hover {\n",
              "      background-color: #E2EBFA;\n",
              "      box-shadow: 0px 1px 2px rgba(60, 64, 67, 0.3), 0px 1px 3px 1px rgba(60, 64, 67, 0.15);\n",
              "      fill: #174EA6;\n",
              "    }\n",
              "\n",
              "    .colab-df-buttons div {\n",
              "      margin-bottom: 4px;\n",
              "    }\n",
              "\n",
              "    [theme=dark] .colab-df-convert {\n",
              "      background-color: #3B4455;\n",
              "      fill: #D2E3FC;\n",
              "    }\n",
              "\n",
              "    [theme=dark] .colab-df-convert:hover {\n",
              "      background-color: #434B5C;\n",
              "      box-shadow: 0px 1px 3px 1px rgba(0, 0, 0, 0.15);\n",
              "      filter: drop-shadow(0px 1px 2px rgba(0, 0, 0, 0.3));\n",
              "      fill: #FFFFFF;\n",
              "    }\n",
              "  </style>\n",
              "\n",
              "    <script>\n",
              "      const buttonEl =\n",
              "        document.querySelector('#df-cea3bb04-3f5c-462d-97bb-fdc51c3761e4 button.colab-df-convert');\n",
              "      buttonEl.style.display =\n",
              "        google.colab.kernel.accessAllowed ? 'block' : 'none';\n",
              "\n",
              "      async function convertToInteractive(key) {\n",
              "        const element = document.querySelector('#df-cea3bb04-3f5c-462d-97bb-fdc51c3761e4');\n",
              "        const dataTable =\n",
              "          await google.colab.kernel.invokeFunction('convertToInteractive',\n",
              "                                                    [key], {});\n",
              "        if (!dataTable) return;\n",
              "\n",
              "        const docLinkHtml = 'Like what you see? Visit the ' +\n",
              "          '<a target=\"_blank\" href=https://colab.research.google.com/notebooks/data_table.ipynb>data table notebook</a>'\n",
              "          + ' to learn more about interactive tables.';\n",
              "        element.innerHTML = '';\n",
              "        dataTable['output_type'] = 'display_data';\n",
              "        await google.colab.output.renderOutput(dataTable, element);\n",
              "        const docLink = document.createElement('div');\n",
              "        docLink.innerHTML = docLinkHtml;\n",
              "        element.appendChild(docLink);\n",
              "      }\n",
              "    </script>\n",
              "  </div>\n",
              "\n",
              "\n",
              "    <div id=\"df-b0b9e7a0-b0a2-48f2-856e-bf2197423235\">\n",
              "      <button class=\"colab-df-quickchart\" onclick=\"quickchart('df-b0b9e7a0-b0a2-48f2-856e-bf2197423235')\"\n",
              "                title=\"Suggest charts\"\n",
              "                style=\"display:none;\">\n",
              "\n",
              "<svg xmlns=\"http://www.w3.org/2000/svg\" height=\"24px\"viewBox=\"0 0 24 24\"\n",
              "     width=\"24px\">\n",
              "    <g>\n",
              "        <path d=\"M19 3H5c-1.1 0-2 .9-2 2v14c0 1.1.9 2 2 2h14c1.1 0 2-.9 2-2V5c0-1.1-.9-2-2-2zM9 17H7v-7h2v7zm4 0h-2V7h2v10zm4 0h-2v-4h2v4z\"/>\n",
              "    </g>\n",
              "</svg>\n",
              "      </button>\n",
              "\n",
              "<style>\n",
              "  .colab-df-quickchart {\n",
              "      --bg-color: #E8F0FE;\n",
              "      --fill-color: #1967D2;\n",
              "      --hover-bg-color: #E2EBFA;\n",
              "      --hover-fill-color: #174EA6;\n",
              "      --disabled-fill-color: #AAA;\n",
              "      --disabled-bg-color: #DDD;\n",
              "  }\n",
              "\n",
              "  [theme=dark] .colab-df-quickchart {\n",
              "      --bg-color: #3B4455;\n",
              "      --fill-color: #D2E3FC;\n",
              "      --hover-bg-color: #434B5C;\n",
              "      --hover-fill-color: #FFFFFF;\n",
              "      --disabled-bg-color: #3B4455;\n",
              "      --disabled-fill-color: #666;\n",
              "  }\n",
              "\n",
              "  .colab-df-quickchart {\n",
              "    background-color: var(--bg-color);\n",
              "    border: none;\n",
              "    border-radius: 50%;\n",
              "    cursor: pointer;\n",
              "    display: none;\n",
              "    fill: var(--fill-color);\n",
              "    height: 32px;\n",
              "    padding: 0;\n",
              "    width: 32px;\n",
              "  }\n",
              "\n",
              "  .colab-df-quickchart:hover {\n",
              "    background-color: var(--hover-bg-color);\n",
              "    box-shadow: 0 1px 2px rgba(60, 64, 67, 0.3), 0 1px 3px 1px rgba(60, 64, 67, 0.15);\n",
              "    fill: var(--button-hover-fill-color);\n",
              "  }\n",
              "\n",
              "  .colab-df-quickchart-complete:disabled,\n",
              "  .colab-df-quickchart-complete:disabled:hover {\n",
              "    background-color: var(--disabled-bg-color);\n",
              "    fill: var(--disabled-fill-color);\n",
              "    box-shadow: none;\n",
              "  }\n",
              "\n",
              "  .colab-df-spinner {\n",
              "    border: 2px solid var(--fill-color);\n",
              "    border-color: transparent;\n",
              "    border-bottom-color: var(--fill-color);\n",
              "    animation:\n",
              "      spin 1s steps(1) infinite;\n",
              "  }\n",
              "\n",
              "  @keyframes spin {\n",
              "    0% {\n",
              "      border-color: transparent;\n",
              "      border-bottom-color: var(--fill-color);\n",
              "      border-left-color: var(--fill-color);\n",
              "    }\n",
              "    20% {\n",
              "      border-color: transparent;\n",
              "      border-left-color: var(--fill-color);\n",
              "      border-top-color: var(--fill-color);\n",
              "    }\n",
              "    30% {\n",
              "      border-color: transparent;\n",
              "      border-left-color: var(--fill-color);\n",
              "      border-top-color: var(--fill-color);\n",
              "      border-right-color: var(--fill-color);\n",
              "    }\n",
              "    40% {\n",
              "      border-color: transparent;\n",
              "      border-right-color: var(--fill-color);\n",
              "      border-top-color: var(--fill-color);\n",
              "    }\n",
              "    60% {\n",
              "      border-color: transparent;\n",
              "      border-right-color: var(--fill-color);\n",
              "    }\n",
              "    80% {\n",
              "      border-color: transparent;\n",
              "      border-right-color: var(--fill-color);\n",
              "      border-bottom-color: var(--fill-color);\n",
              "    }\n",
              "    90% {\n",
              "      border-color: transparent;\n",
              "      border-bottom-color: var(--fill-color);\n",
              "    }\n",
              "  }\n",
              "</style>\n",
              "\n",
              "      <script>\n",
              "        async function quickchart(key) {\n",
              "          const quickchartButtonEl =\n",
              "            document.querySelector('#' + key + ' button');\n",
              "          quickchartButtonEl.disabled = true;  // To prevent multiple clicks.\n",
              "          quickchartButtonEl.classList.add('colab-df-spinner');\n",
              "          try {\n",
              "            const charts = await google.colab.kernel.invokeFunction(\n",
              "                'suggestCharts', [key], {});\n",
              "          } catch (error) {\n",
              "            console.error('Error during call to suggestCharts:', error);\n",
              "          }\n",
              "          quickchartButtonEl.classList.remove('colab-df-spinner');\n",
              "          quickchartButtonEl.classList.add('colab-df-quickchart-complete');\n",
              "        }\n",
              "        (() => {\n",
              "          let quickchartButtonEl =\n",
              "            document.querySelector('#df-b0b9e7a0-b0a2-48f2-856e-bf2197423235 button');\n",
              "          quickchartButtonEl.style.display =\n",
              "            google.colab.kernel.accessAllowed ? 'block' : 'none';\n",
              "        })();\n",
              "      </script>\n",
              "    </div>\n",
              "\n",
              "  <div id=\"id_f11dec93-a782-497e-8002-b44e0b91b04f\">\n",
              "    <style>\n",
              "      .colab-df-generate {\n",
              "        background-color: #E8F0FE;\n",
              "        border: none;\n",
              "        border-radius: 50%;\n",
              "        cursor: pointer;\n",
              "        display: none;\n",
              "        fill: #1967D2;\n",
              "        height: 32px;\n",
              "        padding: 0 0 0 0;\n",
              "        width: 32px;\n",
              "      }\n",
              "\n",
              "      .colab-df-generate:hover {\n",
              "        background-color: #E2EBFA;\n",
              "        box-shadow: 0px 1px 2px rgba(60, 64, 67, 0.3), 0px 1px 3px 1px rgba(60, 64, 67, 0.15);\n",
              "        fill: #174EA6;\n",
              "      }\n",
              "\n",
              "      [theme=dark] .colab-df-generate {\n",
              "        background-color: #3B4455;\n",
              "        fill: #D2E3FC;\n",
              "      }\n",
              "\n",
              "      [theme=dark] .colab-df-generate:hover {\n",
              "        background-color: #434B5C;\n",
              "        box-shadow: 0px 1px 3px 1px rgba(0, 0, 0, 0.15);\n",
              "        filter: drop-shadow(0px 1px 2px rgba(0, 0, 0, 0.3));\n",
              "        fill: #FFFFFF;\n",
              "      }\n",
              "    </style>\n",
              "    <button class=\"colab-df-generate\" onclick=\"generateWithVariable('pdf_dataframe')\"\n",
              "            title=\"Generate code using this dataframe.\"\n",
              "            style=\"display:none;\">\n",
              "\n",
              "  <svg xmlns=\"http://www.w3.org/2000/svg\" height=\"24px\"viewBox=\"0 0 24 24\"\n",
              "       width=\"24px\">\n",
              "    <path d=\"M7,19H8.4L18.45,9,17,7.55,7,17.6ZM5,21V16.75L18.45,3.32a2,2,0,0,1,2.83,0l1.4,1.43a1.91,1.91,0,0,1,.58,1.4,1.91,1.91,0,0,1-.58,1.4L9.25,21ZM18.45,9,17,7.55Zm-12,3A5.31,5.31,0,0,0,4.9,8.1,5.31,5.31,0,0,0,1,6.5,5.31,5.31,0,0,0,4.9,4.9,5.31,5.31,0,0,0,6.5,1,5.31,5.31,0,0,0,8.1,4.9,5.31,5.31,0,0,0,12,6.5,5.46,5.46,0,0,0,6.5,12Z\"/>\n",
              "  </svg>\n",
              "    </button>\n",
              "    <script>\n",
              "      (() => {\n",
              "      const buttonEl =\n",
              "        document.querySelector('#id_f11dec93-a782-497e-8002-b44e0b91b04f button.colab-df-generate');\n",
              "      buttonEl.style.display =\n",
              "        google.colab.kernel.accessAllowed ? 'block' : 'none';\n",
              "\n",
              "      buttonEl.onclick = () => {\n",
              "        google.colab.notebook.generateWithVariable('pdf_dataframe');\n",
              "      }\n",
              "      })();\n",
              "    </script>\n",
              "  </div>\n",
              "\n",
              "    </div>\n",
              "  </div>\n"
            ],
            "application/vnd.google.colaboratory.intrinsic+json": {
              "type": "dataframe",
              "variable_name": "pdf_dataframe",
              "summary": "{\n  \"name\": \"pdf_dataframe\",\n  \"rows\": 3,\n  \"fields\": [\n    {\n      \"column\": \"PDFname\",\n      \"properties\": {\n        \"dtype\": \"string\",\n        \"num_unique_values\": 3,\n        \"samples\": [\n          \"batch_iahi_hypno_ver01_sn83045646_1865041701_0517.pdf.txt\",\n          \"batch_iahi_hypno_ver01_sn83045646_1865041701_0514.pdf.txt\",\n          \"batch_iahi_hypno_ver01_sn83045646_1865041701_0515.pdf.txt\"\n        ],\n        \"semantic_type\": \"\",\n        \"description\": \"\"\n      }\n    },\n    {\n      \"column\": \"polarity\",\n      \"properties\": {\n        \"dtype\": \"number\",\n        \"std\": 0.030418840201558984,\n        \"min\": 0.08061743269751084,\n        \"max\": 0.14144005831060988,\n        \"num_unique_values\": 3,\n        \"samples\": [\n          0.08061743269751084,\n          0.14144005831060988,\n          0.11220078550787209\n        ],\n        \"semantic_type\": \"\",\n        \"description\": \"\"\n      }\n    },\n    {\n      \"column\": \"subjectivity\",\n      \"properties\": {\n        \"dtype\": \"number\",\n        \"std\": 0.024810037563887673,\n        \"min\": 0.4379428329034628,\n        \"max\": 0.48240064601274585,\n        \"num_unique_values\": 3,\n        \"samples\": [\n          0.4410866397224572,\n          0.48240064601274585,\n          0.4379428329034628\n        ],\n        \"semantic_type\": \"\",\n        \"description\": \"\"\n      }\n    },\n    {\n      \"column\": \"NounPhrase1\",\n      \"properties\": {\n        \"dtype\": \"string\",\n        \"num_unique_values\": 2,\n        \"samples\": [\n          \"davenport\",\n          \"april\"\n        ],\n        \"semantic_type\": \"\",\n        \"description\": \"\"\n      }\n    },\n    {\n      \"column\": \"NounPhrase2\",\n      \"properties\": {\n        \"dtype\": \"string\",\n        \"num_unique_values\": 3,\n        \"samples\": [\n          \"ihe\",\n          \"brady\"\n        ],\n        \"semantic_type\": \"\",\n        \"description\": \"\"\n      }\n    },\n    {\n      \"column\": \"NounPhrase3\",\n      \"properties\": {\n        \"dtype\": \"string\",\n        \"num_unique_values\": 2,\n        \"samples\": [\n          \"april\",\n          \"booth\"\n        ],\n        \"semantic_type\": \"\",\n        \"description\": \"\"\n      }\n    }\n  ]\n}"
            }
          },
          "metadata": {},
          "execution_count": 17
        }
      ]
    },
    {
      "cell_type": "markdown",
      "source": [
        "# Save our data\n",
        "\n",
        "We'll save our dataframe as a CSV file and put it in our usual folder."
      ],
      "metadata": {
        "id": "LKbAG3rQUG84"
      }
    },
    {
      "cell_type": "code",
      "source": [
        "pdf_dataframe.to_csv(\"adv_week3_homework.csv\", index=False)\n",
        "!cp adv_week3_homework.csv /content/gdrive/MyDrive/LibraryJuicePython"
      ],
      "metadata": {
        "id": "hSIvN1m2UTc4"
      },
      "execution_count": null,
      "outputs": []
    },
    {
      "cell_type": "markdown",
      "source": [
        "**H3** Take a moment to reflect on what your data analysis says about your PDF files. Jot down some reflections in the cell below."
      ],
      "metadata": {
        "id": "8XQ7ZmyHUTxE"
      }
    },
    {
      "cell_type": "markdown",
      "source": [
        "My analysis tells me... I ran this on newspaper pages that included the words \"lincoln assasination\" in April 1865. I tried to get pages with relatively good OCR, but apparently the OCR was pretty bad for the SC newspaper I picked.  I'm guessing the bad OCR was part of the reason it had a neutral score for polarity.  I am suprised that the rest of the pages had positive scores?  For the DEU/Delaware newspaper, I'm guessing content like \"President Lincoln’s remains left Philadelphia . . . and were visited by great\n",
        "crowds.\" confused the scoring. \"Great\" is not necessarily mean something positive in that case.  There is also non-assassination newspaper content on the pages as well so that might also impact polarity.  Subjectivity is also something interesting to think about.  The pages had fairly high subjectivity scores for newspapers, and I realized that there were \"Letters to the Editor\" on those pages that frequently used \"I\" statements.  (This was particularly the case for the MB/Massachusetts newspaper with sentences like, \"I read with profound regret the leading editorial in the Anti-Slavery Standard . . .\")"
      ],
      "metadata": {
        "id": "pmgIIZgsUhcg"
      }
    }
  ]
}